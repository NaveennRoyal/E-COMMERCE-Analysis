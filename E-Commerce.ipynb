{
 "cells": [
  {
   "cell_type": "code",
   "execution_count": 2,
   "id": "67f8226a-59aa-4bc0-bb05-e0eedd3fb32d",
   "metadata": {},
   "outputs": [],
   "source": [
    "import pandas as pd\n",
    "import numpy as np\n",
    "import matplotlib.pyplot as plt\n",
    "import seaborn as sns\n",
    "import mysql.connector\n",
    "\n",
    "db=mysql.connector.connect(host='localhost',\n",
    "                           username='root',\n",
    "                           password='naveenroyal@777',\n",
    "                           database='Project1')\n",
    "cur=db.cursor()"
   ]
  },
  {
   "cell_type": "markdown",
   "id": "6067f802-f277-43bd-81fe-5b4bcc9440b7",
   "metadata": {},
   "source": [
    "# List all unique cities where customers are located."
   ]
  },
  {
   "cell_type": "code",
   "execution_count": 5,
   "id": "8a9ee4fe-dfd5-49ee-9b7d-6448ba38bdc7",
   "metadata": {},
   "outputs": [
    {
     "data": {
      "text/html": [
       "<div>\n",
       "<style scoped>\n",
       "    .dataframe tbody tr th:only-of-type {\n",
       "        vertical-align: middle;\n",
       "    }\n",
       "\n",
       "    .dataframe tbody tr th {\n",
       "        vertical-align: top;\n",
       "    }\n",
       "\n",
       "    .dataframe thead th {\n",
       "        text-align: right;\n",
       "    }\n",
       "</style>\n",
       "<table border=\"1\" class=\"dataframe\">\n",
       "  <thead>\n",
       "    <tr style=\"text-align: right;\">\n",
       "      <th></th>\n",
       "      <th>cities</th>\n",
       "    </tr>\n",
       "  </thead>\n",
       "  <tbody>\n",
       "    <tr>\n",
       "      <th>0</th>\n",
       "      <td>franca</td>\n",
       "    </tr>\n",
       "    <tr>\n",
       "      <th>1</th>\n",
       "      <td>sao bernardo do campo</td>\n",
       "    </tr>\n",
       "    <tr>\n",
       "      <th>2</th>\n",
       "      <td>sao paulo</td>\n",
       "    </tr>\n",
       "    <tr>\n",
       "      <th>3</th>\n",
       "      <td>mogi das cruzes</td>\n",
       "    </tr>\n",
       "    <tr>\n",
       "      <th>4</th>\n",
       "      <td>campinas</td>\n",
       "    </tr>\n",
       "  </tbody>\n",
       "</table>\n",
       "</div>"
      ],
      "text/plain": [
       "                  cities\n",
       "0                 franca\n",
       "1  sao bernardo do campo\n",
       "2              sao paulo\n",
       "3        mogi das cruzes\n",
       "4               campinas"
      ]
     },
     "execution_count": 5,
     "metadata": {},
     "output_type": "execute_result"
    }
   ],
   "source": [
    "query=\"\"\"select distinct customer_city from customers\"\"\"\n",
    "cur.execute(query)\n",
    "data=cur.fetchall()\n",
    "df=pd.DataFrame(data,columns=['cities'])\n",
    "df.head()"
   ]
  },
  {
   "cell_type": "markdown",
   "id": "d65f1c9a-f6a6-44b4-98cc-5183704d3fbf",
   "metadata": {},
   "source": [
    "# Count the number of orders placed in 2017"
   ]
  },
  {
   "cell_type": "code",
   "execution_count": 6,
   "id": "6c3e5e86-d128-4399-a6c4-652d60864081",
   "metadata": {},
   "outputs": [
    {
     "data": {
      "text/html": [
       "<div>\n",
       "<style scoped>\n",
       "    .dataframe tbody tr th:only-of-type {\n",
       "        vertical-align: middle;\n",
       "    }\n",
       "\n",
       "    .dataframe tbody tr th {\n",
       "        vertical-align: top;\n",
       "    }\n",
       "\n",
       "    .dataframe thead th {\n",
       "        text-align: right;\n",
       "    }\n",
       "</style>\n",
       "<table border=\"1\" class=\"dataframe\">\n",
       "  <thead>\n",
       "    <tr style=\"text-align: right;\">\n",
       "      <th></th>\n",
       "      <th>Total_nof_orders</th>\n",
       "    </tr>\n",
       "  </thead>\n",
       "  <tbody>\n",
       "    <tr>\n",
       "      <th>0</th>\n",
       "      <td>45101</td>\n",
       "    </tr>\n",
       "  </tbody>\n",
       "</table>\n",
       "</div>"
      ],
      "text/plain": [
       "   Total_nof_orders\n",
       "0             45101"
      ]
     },
     "execution_count": 6,
     "metadata": {},
     "output_type": "execute_result"
    }
   ],
   "source": [
    "query=\"\"\"select count(order_id) as numbers_of_orders from orders\n",
    "where year(order_purchase_timestamp)='2017'\"\"\"\n",
    "cur.execute(query)\n",
    "data=cur.fetchall()\n",
    "df=pd.DataFrame(data,columns=['Total_nof_orders'])\n",
    "df.head()"
   ]
  },
  {
   "cell_type": "markdown",
   "id": "e4c1b827-181a-498a-9649-4db31057f65d",
   "metadata": {},
   "source": [
    "# Find the total sales per category."
   ]
  },
  {
   "cell_type": "code",
   "execution_count": 7,
   "id": "51cfe343-c949-4728-ba5b-15085a72743d",
   "metadata": {},
   "outputs": [
    {
     "data": {
      "text/html": [
       "<div>\n",
       "<style scoped>\n",
       "    .dataframe tbody tr th:only-of-type {\n",
       "        vertical-align: middle;\n",
       "    }\n",
       "\n",
       "    .dataframe tbody tr th {\n",
       "        vertical-align: top;\n",
       "    }\n",
       "\n",
       "    .dataframe thead th {\n",
       "        text-align: right;\n",
       "    }\n",
       "</style>\n",
       "<table border=\"1\" class=\"dataframe\">\n",
       "  <thead>\n",
       "    <tr style=\"text-align: right;\">\n",
       "      <th></th>\n",
       "      <th>product_name</th>\n",
       "      <th>total_sales</th>\n",
       "    </tr>\n",
       "  </thead>\n",
       "  <tbody>\n",
       "    <tr>\n",
       "      <th>0</th>\n",
       "      <td>perfumery</td>\n",
       "      <td>506738.66</td>\n",
       "    </tr>\n",
       "    <tr>\n",
       "      <th>1</th>\n",
       "      <td>Furniture Decoration</td>\n",
       "      <td>1430176.39</td>\n",
       "    </tr>\n",
       "    <tr>\n",
       "      <th>2</th>\n",
       "      <td>telephony</td>\n",
       "      <td>486882.05</td>\n",
       "    </tr>\n",
       "    <tr>\n",
       "      <th>3</th>\n",
       "      <td>bed table bath</td>\n",
       "      <td>1712553.67</td>\n",
       "    </tr>\n",
       "    <tr>\n",
       "      <th>4</th>\n",
       "      <td>automotive</td>\n",
       "      <td>852294.33</td>\n",
       "    </tr>\n",
       "  </tbody>\n",
       "</table>\n",
       "</div>"
      ],
      "text/plain": [
       "           product_name  total_sales\n",
       "0             perfumery    506738.66\n",
       "1  Furniture Decoration   1430176.39\n",
       "2             telephony    486882.05\n",
       "3        bed table bath   1712553.67\n",
       "4            automotive    852294.33"
      ]
     },
     "execution_count": 7,
     "metadata": {},
     "output_type": "execute_result"
    }
   ],
   "source": [
    "query=\"\"\"select product_category,round(sum(j.payment_value),2) as total_sales from products as p\n",
    "join order_items as o\n",
    "on o.product_id=p.product_id\n",
    "join payments as j\n",
    "on j.order_id=o.order_id\n",
    "group by product_category\"\"\"\n",
    "cur.execute(query)\n",
    "data=cur.fetchall()\n",
    "df=pd.DataFrame(data,columns=['product_name','total_sales'])\n",
    "df.head()"
   ]
  },
  {
   "cell_type": "markdown",
   "id": "5f0fe42d-fef0-4c96-ba31-c5b8842472ff",
   "metadata": {},
   "source": [
    "# Calculate the percentage of orders that were paid in installments."
   ]
  },
  {
   "cell_type": "code",
   "execution_count": 5,
   "id": "226f5ada-6665-4a8a-835e-5aef1ad9ade7",
   "metadata": {},
   "outputs": [
    {
     "data": {
      "text/html": [
       "<div>\n",
       "<style scoped>\n",
       "    .dataframe tbody tr th:only-of-type {\n",
       "        vertical-align: middle;\n",
       "    }\n",
       "\n",
       "    .dataframe tbody tr th {\n",
       "        vertical-align: top;\n",
       "    }\n",
       "\n",
       "    .dataframe thead th {\n",
       "        text-align: right;\n",
       "    }\n",
       "</style>\n",
       "<table border=\"1\" class=\"dataframe\">\n",
       "  <thead>\n",
       "    <tr style=\"text-align: right;\">\n",
       "      <th></th>\n",
       "      <th>percentage</th>\n",
       "    </tr>\n",
       "  </thead>\n",
       "  <tbody>\n",
       "    <tr>\n",
       "      <th>0</th>\n",
       "      <td>99.9981</td>\n",
       "    </tr>\n",
       "  </tbody>\n",
       "</table>\n",
       "</div>"
      ],
      "text/plain": [
       "  percentage\n",
       "0    99.9981"
      ]
     },
     "execution_count": 5,
     "metadata": {},
     "output_type": "execute_result"
    }
   ],
   "source": [
    "query=\"\"\"select (sum(case when payment_installments>=1 then 1 else 0 end))/count(*)*100 as percentage from payments\"\"\"\n",
    "cur.execute(query)\n",
    "data=cur.fetchall()\n",
    "df=pd.DataFrame(data,columns=['percentage'])\n",
    "df"
   ]
  },
  {
   "cell_type": "markdown",
   "id": "b4bb4bcc-3adf-4b62-8f20-e0d41c73c48c",
   "metadata": {},
   "source": [
    "# Count the number of customers from each state."
   ]
  },
  {
   "cell_type": "code",
   "execution_count": 9,
   "id": "e02d10cc-23a5-4651-9a20-518d2378245f",
   "metadata": {},
   "outputs": [
    {
     "data": {
      "image/png": "[encoded data removed]",
      "text/plain": [
       "<Figure size 1000x500 with 1 Axes>"
      ]
     },
     "metadata": {},
     "output_type": "display_data"
    }
   ],
   "source": [
    "query=\"\"\"select customer_state,count(*) as total_number_of_customers from customers\n",
    "group by customer_state\n",
    "order by total_number_of_customers desc\"\"\"\n",
    "cur.execute(query)\n",
    "data=cur.fetchall()\n",
    "df=pd.DataFrame(data,columns=['customer_city','total_number_of_customers'])\n",
    "df.head()\n",
    "plt.figure(figsize=(10,5))\n",
    "plt.bar(df['customer_city'],df['total_number_of_customers'])\n",
    "plt.xticks(rotation=90)\n",
    "plt.xlabel('cities')\n",
    "plt.ylabel('number of customers')\n",
    "plt.title('number of customers for each city')\n",
    "plt.show()"
   ]
  },
  {
   "cell_type": "markdown",
   "id": "93b1f412-0a81-417e-9e6a-263ebf2ae6d1",
   "metadata": {},
   "source": [
    "# Calculate the number of orders per month in 2018."
   ]
  },
  {
   "cell_type": "code",
   "execution_count": 10,
   "id": "fded7191-ae24-4390-a94a-366b8500d27e",
   "metadata": {},
   "outputs": [
    {
     "data": {
      "image/png": "[encoded data removed]",
      "text/plain": [
       "<Figure size 640x480 with 1 Axes>"
      ]
     },
     "metadata": {},
     "output_type": "display_data"
    }
   ],
   "source": [
    "query=\"\"\"select MONTHNAME(order_purchase_timestamp) as months,count(order_id) as total_orders from orders\n",
    "where year(order_purchase_timestamp)='2018'\n",
    "group by MONTHNAME(order_purchase_timestamp)\n",
    "order by count(order_id) desc\"\"\"\n",
    "cur.execute(query)\n",
    "data=cur.fetchall()\n",
    "df=pd.DataFrame(data,columns=['months','total_orders'])\n",
    "df.head()\n",
    "a=sns.barplot(x=df['months'],y=df['total_orders'])\n",
    "a.bar_label(a.containers[0])\n",
    "plt.xticks(rotation=50)\n",
    "plt.show()\n"
   ]
  },
  {
   "cell_type": "markdown",
   "id": "e60e6730-70db-4f90-b181-9da20dfdf826",
   "metadata": {},
   "source": [
    "# Find the average number of products per order, grouped by customer city."
   ]
  },
  {
   "cell_type": "code",
   "execution_count": 11,
   "id": "c12da466-1864-4a61-9daa-e9539de1cf84",
   "metadata": {
    "scrolled": true
   },
   "outputs": [
    {
     "name": "stdout",
     "output_type": "stream",
     "text": [
      "  customer_city  avg_order\n",
      "0       January       7269\n",
      "1         March       7211\n",
      "2         April       6939\n",
      "3           May       6873\n",
      "4      February       6728\n",
      "5        August       6512\n",
      "6          July       6292\n",
      "7          June       6167\n",
      "8     September         16\n",
      "9       October          4\n"
     ]
    },
    {
     "data": {
      "image/png": "[encoded data removed]",
      "text/plain": [
       "<Figure size 640x480 with 1 Axes>"
      ]
     },
     "metadata": {},
     "output_type": "display_data"
    }
   ],
   "source": [
    "query=\"\"\"\n",
    "\n",
    "with  a as (select orders.customer_id as cust_id,orders.order_id,count(order_items.order_item_id) as count_of_orders from orders \n",
    "            join order_items \n",
    "             on order_items.order_id=orders.order_id\n",
    "              group by orders.order_id,orders.customer_id )\n",
    "\n",
    "select customers.customer_city,round(avg(a.count_of_orders),2) as avg_orders from customers\n",
    "join a\n",
    "on a.cust_id=customers.customer_id\n",
    "group by customers.customer_city\n",
    "order by avg_orders desc;\n",
    "\"\"\"\n",
    "cur.execute(query)\n",
    "cur.fetchall()\n",
    "df=pd.DataFrame(data,columns=['customer_city','avg_order'])\n",
    "df_top10 = df.head(10)\n",
    "sns.barplot(x=df_top10['customer_city'],y=df_top10['avg_order'])\n",
    "plt.xticks(rotation=45)\n",
    "plt.show()"
   ]
  },
  {
   "cell_type": "markdown",
   "id": "1dad5a88-a426-4190-9f9d-646c8427219d",
   "metadata": {},
   "source": [
    "# Calculate the percentage of total revenue contributed by each product category."
   ]
  },
  {
   "cell_type": "code",
   "execution_count": 45,
   "id": "cd29dd9b-927b-4f81-8e7d-34dea3973374",
   "metadata": {},
   "outputs": [
    {
     "data": {
      "text/html": [
       "<div>\n",
       "<style scoped>\n",
       "    .dataframe tbody tr th:only-of-type {\n",
       "        vertical-align: middle;\n",
       "    }\n",
       "\n",
       "    .dataframe tbody tr th {\n",
       "        vertical-align: top;\n",
       "    }\n",
       "\n",
       "    .dataframe thead th {\n",
       "        text-align: right;\n",
       "    }\n",
       "</style>\n",
       "<table border=\"1\" class=\"dataframe\">\n",
       "  <thead>\n",
       "    <tr style=\"text-align: right;\">\n",
       "      <th></th>\n",
       "      <th>product</th>\n",
       "      <th>percentage_distribution</th>\n",
       "    </tr>\n",
       "  </thead>\n",
       "  <tbody>\n",
       "    <tr>\n",
       "      <th>0</th>\n",
       "      <td>bed table bath</td>\n",
       "      <td>10.70</td>\n",
       "    </tr>\n",
       "    <tr>\n",
       "      <th>1</th>\n",
       "      <td>HEALTH BEAUTY</td>\n",
       "      <td>10.35</td>\n",
       "    </tr>\n",
       "    <tr>\n",
       "      <th>2</th>\n",
       "      <td>computer accessories</td>\n",
       "      <td>9.90</td>\n",
       "    </tr>\n",
       "    <tr>\n",
       "      <th>3</th>\n",
       "      <td>Furniture Decoration</td>\n",
       "      <td>8.93</td>\n",
       "    </tr>\n",
       "    <tr>\n",
       "      <th>4</th>\n",
       "      <td>Watches present</td>\n",
       "      <td>8.93</td>\n",
       "    </tr>\n",
       "  </tbody>\n",
       "</table>\n",
       "</div>"
      ],
      "text/plain": [
       "                product  percentage_distribution\n",
       "0        bed table bath                    10.70\n",
       "1         HEALTH BEAUTY                    10.35\n",
       "2  computer accessories                     9.90\n",
       "3  Furniture Decoration                     8.93\n",
       "4       Watches present                     8.93"
      ]
     },
     "execution_count": 45,
     "metadata": {},
     "output_type": "execute_result"
    }
   ],
   "source": [
    "query7=\"\"\"select product_category,round(sum(j.payment_value)/(select sum(payment_value) from payments)*100,2) as sales_percentage from products as p\n",
    "join order_items as o\n",
    "on o.product_id=p.product_id\n",
    "join payments as j\n",
    "on j.order_id=o.order_id\n",
    "group by product_category\n",
    "order by sales_percentage desc;\"\"\"\n",
    "cur.execute(query7)\n",
    "data7=cur.fetchall()\n",
    "df7=pd.DataFrame(data7,columns=['product','percentage_distribution'])\n",
    "df7.head()"
   ]
  },
  {
   "cell_type": "markdown",
   "id": "94afdd97-d489-4c03-81a8-82a50834560d",
   "metadata": {},
   "source": [
    "# Identify the correlation between product price and the number of times a product has been purchased."
   ]
  },
  {
   "cell_type": "code",
   "execution_count": 12,
   "id": "5fffb70f-7594-49d1-95b0-200eae4a5b58",
   "metadata": {},
   "outputs": [
    {
     "name": "stdout",
     "output_type": "stream",
     "text": [
      "correlation between price and number of times a product has been purchased is -0.10631514167157569\n"
     ]
    }
   ],
   "source": [
    "query=\"\"\"select products.product_category,round(avg(order_items.price),2),count(order_items.product_id) as num_of_products_purchased from products\n",
    "join order_items\n",
    "on products.product_id=order_items.product_id\n",
    "group by products.product_category\n",
    "\"\"\"\n",
    "cur.execute(query)\n",
    "data=cur.fetchall()\n",
    "df=pd.DataFrame(data,columns=['products','cost','num_of_items'])\n",
    "df.head()\n",
    "price=df['cost'].values\n",
    "purchase_count=df['num_of_items'].values\n",
    "corr_diff=np.corrcoef(price,purchase_count)[0][1]\n",
    "print(\"correlation between price and number of times a product has been purchased is\",corr_diff)"
   ]
  },
  {
   "cell_type": "markdown",
   "id": "5459fcd1-b395-4d21-b4c3-581608a00031",
   "metadata": {},
   "source": [
    "# Calculate the total revenue generated by each seller, and rank them by revenue."
   ]
  },
  {
   "cell_type": "code",
   "execution_count": 13,
   "id": "1f7ce978-f298-488d-9825-1a449295021e",
   "metadata": {},
   "outputs": [
    {
     "data": {
      "image/png": "[encoded data removed]",
      "text/plain": [
       "<Figure size 640x480 with 1 Axes>"
      ]
     },
     "metadata": {},
     "output_type": "display_data"
    }
   ],
   "source": [
    "query=\"\"\"with a as(select order_items.seller_id,round(sum(payment_value),2) as revenue from payments\n",
    "join order_items\n",
    "on order_items.order_id=payments.order_id\n",
    "group by order_items.seller_id)\n",
    "select *, dense_rank() over(order by revenue desc) as rnk from a\"\"\"\n",
    "cur.execute(query)\n",
    "data=cur.fetchall()\n",
    "df=pd.DataFrame(data,columns=['seller_id','revenue','rank'])\n",
    "dg=df.head(10)\n",
    "sns.barplot(x=dg['seller_id'],y=dg['revenue'])\n",
    "plt.xticks(rotation=90)\n",
    "plt.show()"
   ]
  },
  {
   "cell_type": "markdown",
   "id": "b3be924b-ff6c-4d7e-a77c-e8d324b93d83",
   "metadata": {},
   "source": [
    "# Calculate the moving average of order values for each customer over their order history."
   ]
  },
  {
   "cell_type": "code",
   "execution_count": 16,
   "id": "02b6681c-652c-4f2f-9fab-efb692968d99",
   "metadata": {},
   "outputs": [
    {
     "data": {
      "text/html": [
       "<div>\n",
       "<style scoped>\n",
       "    .dataframe tbody tr th:only-of-type {\n",
       "        vertical-align: middle;\n",
       "    }\n",
       "\n",
       "    .dataframe tbody tr th {\n",
       "        vertical-align: top;\n",
       "    }\n",
       "\n",
       "    .dataframe thead th {\n",
       "        text-align: right;\n",
       "    }\n",
       "</style>\n",
       "<table border=\"1\" class=\"dataframe\">\n",
       "  <thead>\n",
       "    <tr style=\"text-align: right;\">\n",
       "      <th></th>\n",
       "      <th>customer_id</th>\n",
       "      <th>purchase_time</th>\n",
       "      <th>mov_avg</th>\n",
       "    </tr>\n",
       "  </thead>\n",
       "  <tbody>\n",
       "    <tr>\n",
       "      <th>0</th>\n",
       "      <td>00012a2ce6f8dcda20d059ce98491703</td>\n",
       "      <td>2017-11-14 16:08:26</td>\n",
       "      <td>114.739998</td>\n",
       "    </tr>\n",
       "    <tr>\n",
       "      <th>1</th>\n",
       "      <td>000161a058600d5901f007fab4c27140</td>\n",
       "      <td>2017-07-16 09:40:32</td>\n",
       "      <td>67.410004</td>\n",
       "    </tr>\n",
       "    <tr>\n",
       "      <th>2</th>\n",
       "      <td>0001fd6190edaaf884bcaf3d49edf079</td>\n",
       "      <td>2017-02-28 11:06:43</td>\n",
       "      <td>195.419998</td>\n",
       "    </tr>\n",
       "    <tr>\n",
       "      <th>3</th>\n",
       "      <td>0002414f95344307404f0ace7a26f1d5</td>\n",
       "      <td>2017-08-16 13:09:20</td>\n",
       "      <td>179.350006</td>\n",
       "    </tr>\n",
       "    <tr>\n",
       "      <th>4</th>\n",
       "      <td>000379cdec625522490c315e70c7a9fb</td>\n",
       "      <td>2018-04-02 13:42:17</td>\n",
       "      <td>107.010002</td>\n",
       "    </tr>\n",
       "  </tbody>\n",
       "</table>\n",
       "</div>"
      ],
      "text/plain": [
       "                        customer_id        purchase_time     mov_avg\n",
       "0  00012a2ce6f8dcda20d059ce98491703  2017-11-14 16:08:26  114.739998\n",
       "1  000161a058600d5901f007fab4c27140  2017-07-16 09:40:32   67.410004\n",
       "2  0001fd6190edaaf884bcaf3d49edf079  2017-02-28 11:06:43  195.419998\n",
       "3  0002414f95344307404f0ace7a26f1d5  2017-08-16 13:09:20  179.350006\n",
       "4  000379cdec625522490c315e70c7a9fb  2018-04-02 13:42:17  107.010002"
      ]
     },
     "execution_count": 16,
     "metadata": {},
     "output_type": "execute_result"
    }
   ],
   "source": [
    "query=\"\"\"\n",
    "    select cust_id,pur_time,avg(payment) over(partition by cust_id order by pur_time\n",
    "    rows between 2 preceding and current row) from \n",
    "    (SELECT \n",
    "        orders.customer_id AS cust_id,\n",
    "        orders.order_purchase_timestamp AS pur_time,\n",
    "        payments.payment_value AS payment\n",
    "    FROM orders\n",
    "    JOIN payments ON payments.order_id = orders.order_id) as x\"\"\"\n",
    "cur.execute(query)\n",
    "data=cur.fetchall()\n",
    "df=pd.DataFrame(data,columns=['customer_id','purchase_time','mov_avg'])\n",
    "df.head()"
   ]
  },
  {
   "cell_type": "markdown",
   "id": "3e5f49b4-df28-44dd-ab89-df78f5378b01",
   "metadata": {},
   "source": [
    "# Calculate the cumulative sales per month for each year."
   ]
  },
  {
   "cell_type": "code",
   "execution_count": 8,
   "id": "8655a64c-a793-40f6-9a29-75e0760a2601",
   "metadata": {},
   "outputs": [
    {
     "data": {
      "text/html": [
       "<div>\n",
       "<style scoped>\n",
       "    .dataframe tbody tr th:only-of-type {\n",
       "        vertical-align: middle;\n",
       "    }\n",
       "\n",
       "    .dataframe tbody tr th {\n",
       "        vertical-align: top;\n",
       "    }\n",
       "\n",
       "    .dataframe thead th {\n",
       "        text-align: right;\n",
       "    }\n",
       "</style>\n",
       "<table border=\"1\" class=\"dataframe\">\n",
       "  <thead>\n",
       "    <tr style=\"text-align: right;\">\n",
       "      <th></th>\n",
       "      <th>year</th>\n",
       "      <th>month</th>\n",
       "      <th>payment</th>\n",
       "      <th>cum_sales</th>\n",
       "    </tr>\n",
       "  </thead>\n",
       "  <tbody>\n",
       "    <tr>\n",
       "      <th>20</th>\n",
       "      <td>2018</td>\n",
       "      <td>6</td>\n",
       "      <td>1.023881e+06</td>\n",
       "      <td>1.391488e+07</td>\n",
       "    </tr>\n",
       "    <tr>\n",
       "      <th>21</th>\n",
       "      <td>2018</td>\n",
       "      <td>7</td>\n",
       "      <td>1.066541e+06</td>\n",
       "      <td>1.498142e+07</td>\n",
       "    </tr>\n",
       "    <tr>\n",
       "      <th>22</th>\n",
       "      <td>2018</td>\n",
       "      <td>8</td>\n",
       "      <td>1.022425e+06</td>\n",
       "      <td>1.600384e+07</td>\n",
       "    </tr>\n",
       "    <tr>\n",
       "      <th>23</th>\n",
       "      <td>2018</td>\n",
       "      <td>9</td>\n",
       "      <td>4.439540e+03</td>\n",
       "      <td>1.600828e+07</td>\n",
       "    </tr>\n",
       "    <tr>\n",
       "      <th>24</th>\n",
       "      <td>2018</td>\n",
       "      <td>10</td>\n",
       "      <td>5.896700e+02</td>\n",
       "      <td>1.600887e+07</td>\n",
       "    </tr>\n",
       "  </tbody>\n",
       "</table>\n",
       "</div>"
      ],
      "text/plain": [
       "    year  month       payment     cum_sales\n",
       "20  2018      6  1.023881e+06  1.391488e+07\n",
       "21  2018      7  1.066541e+06  1.498142e+07\n",
       "22  2018      8  1.022425e+06  1.600384e+07\n",
       "23  2018      9  4.439540e+03  1.600828e+07\n",
       "24  2018     10  5.896700e+02  1.600887e+07"
      ]
     },
     "execution_count": 8,
     "metadata": {},
     "output_type": "execute_result"
    }
   ],
   "source": [
    "query=\"\"\"select years,months,paymentss,sum(paymentss) over(order by years,months) as cum_sales from \n",
    "(select year(order_purchase_timestamp) as years,month(order_purchase_timestamp) as months,sum(payments.payment_value) as paymentss\n",
    "from orders\n",
    "join payments\n",
    "on payments.order_id=orders.order_id\n",
    "group by years,months\n",
    "order by years,months) as x\"\"\"\n",
    "cur.execute(query)\n",
    "data=cur.fetchall()\n",
    "df=pd.DataFrame(data,columns=['year','month','payment','cum_sales'])\n",
    "df.tail()"
   ]
  },
  {
   "cell_type": "markdown",
   "id": "93d74030-20f0-4f82-b38c-24c696ae4556",
   "metadata": {},
   "source": [
    "# Calculate the year-over-year growth rate of total sales."
   ]
  },
  {
   "cell_type": "code",
   "execution_count": 14,
   "id": "a8b76412-3698-4e95-abc4-946e8c9cc0e1",
   "metadata": {},
   "outputs": [
    {
     "data": {
      "text/html": [
       "<div>\n",
       "<style scoped>\n",
       "    .dataframe tbody tr th:only-of-type {\n",
       "        vertical-align: middle;\n",
       "    }\n",
       "\n",
       "    .dataframe tbody tr th {\n",
       "        vertical-align: top;\n",
       "    }\n",
       "\n",
       "    .dataframe thead th {\n",
       "        text-align: right;\n",
       "    }\n",
       "</style>\n",
       "<table border=\"1\" class=\"dataframe\">\n",
       "  <thead>\n",
       "    <tr style=\"text-align: right;\">\n",
       "      <th></th>\n",
       "      <th>year</th>\n",
       "      <th>yoy % growth</th>\n",
       "    </tr>\n",
       "  </thead>\n",
       "  <tbody>\n",
       "    <tr>\n",
       "      <th>0</th>\n",
       "      <td>2016</td>\n",
       "      <td>NaN</td>\n",
       "    </tr>\n",
       "    <tr>\n",
       "      <th>1</th>\n",
       "      <td>2017</td>\n",
       "      <td>12112.703761</td>\n",
       "    </tr>\n",
       "    <tr>\n",
       "      <th>2</th>\n",
       "      <td>2018</td>\n",
       "      <td>20.000924</td>\n",
       "    </tr>\n",
       "  </tbody>\n",
       "</table>\n",
       "</div>"
      ],
      "text/plain": [
       "   year  yoy % growth\n",
       "0  2016           NaN\n",
       "1  2017  12112.703761\n",
       "2  2018     20.000924"
      ]
     },
     "execution_count": 14,
     "metadata": {},
     "output_type": "execute_result"
    }
   ],
   "source": [
    "query=\"\"\"with a as(select year(orders.order_purchase_timestamp) as years,round(sum(p.payment_value),2) as total_sales from orders\n",
    "join payments as p\n",
    "on p.order_id=orders.order_id\n",
    "group by years)\n",
    "select years,((total_sales-lag(total_sales) over(order by years))/lag(total_sales) over(order by years))*100 as year from a;\"\"\"\n",
    "cur.execute(query)\n",
    "data=cur.fetchall()\n",
    "df=pd.DataFrame(data,columns=['year','yoy % growth'])\n",
    "df.head()"
   ]
  },
  {
   "cell_type": "markdown",
   "id": "e7dd3656-df5e-4db0-bca1-bde217f0bea9",
   "metadata": {},
   "source": [
    "# Identify the top 3 customers who spent the most money in each year."
   ]
  },
  {
   "cell_type": "code",
   "execution_count": 4,
   "id": "131fa36c-9781-4df3-8f2f-b1cb50c1cf5d",
   "metadata": {},
   "outputs": [
    {
     "data": {
      "text/html": [
       "<div>\n",
       "<style scoped>\n",
       "    .dataframe tbody tr th:only-of-type {\n",
       "        vertical-align: middle;\n",
       "    }\n",
       "\n",
       "    .dataframe tbody tr th {\n",
       "        vertical-align: top;\n",
       "    }\n",
       "\n",
       "    .dataframe thead th {\n",
       "        text-align: right;\n",
       "    }\n",
       "</style>\n",
       "<table border=\"1\" class=\"dataframe\">\n",
       "  <thead>\n",
       "    <tr style=\"text-align: right;\">\n",
       "      <th></th>\n",
       "      <th>year</th>\n",
       "      <th>customer</th>\n",
       "      <th>payment</th>\n",
       "      <th>rank</th>\n",
       "    </tr>\n",
       "  </thead>\n",
       "  <tbody>\n",
       "    <tr>\n",
       "      <th>0</th>\n",
       "      <td>2016</td>\n",
       "      <td>a9dc96b027d1252bbac0a9b72d837fc6</td>\n",
       "      <td>1423.550049</td>\n",
       "      <td>1</td>\n",
       "    </tr>\n",
       "    <tr>\n",
       "      <th>1</th>\n",
       "      <td>2016</td>\n",
       "      <td>1d34ed25963d5aae4cf3d7f3a4cda173</td>\n",
       "      <td>1400.739990</td>\n",
       "      <td>2</td>\n",
       "    </tr>\n",
       "    <tr>\n",
       "      <th>2</th>\n",
       "      <td>2016</td>\n",
       "      <td>4a06381959b6670756de02e07b83815f</td>\n",
       "      <td>1227.780029</td>\n",
       "      <td>3</td>\n",
       "    </tr>\n",
       "    <tr>\n",
       "      <th>3</th>\n",
       "      <td>2017</td>\n",
       "      <td>1617b1357756262bfa56ab541c47bc16</td>\n",
       "      <td>13664.080078</td>\n",
       "      <td>1</td>\n",
       "    </tr>\n",
       "    <tr>\n",
       "      <th>4</th>\n",
       "      <td>2017</td>\n",
       "      <td>c6e2731c5b391845f6800c97401a43a9</td>\n",
       "      <td>6929.310059</td>\n",
       "      <td>2</td>\n",
       "    </tr>\n",
       "    <tr>\n",
       "      <th>5</th>\n",
       "      <td>2017</td>\n",
       "      <td>3fd6777bbce08a352fddd04e4a7cc8f6</td>\n",
       "      <td>6726.660156</td>\n",
       "      <td>3</td>\n",
       "    </tr>\n",
       "    <tr>\n",
       "      <th>6</th>\n",
       "      <td>2018</td>\n",
       "      <td>ec5b2ba62e574342386871631fafd3fc</td>\n",
       "      <td>7274.879883</td>\n",
       "      <td>1</td>\n",
       "    </tr>\n",
       "    <tr>\n",
       "      <th>7</th>\n",
       "      <td>2018</td>\n",
       "      <td>f48d464a0baaea338cb25f816991ab1f</td>\n",
       "      <td>6922.209961</td>\n",
       "      <td>2</td>\n",
       "    </tr>\n",
       "    <tr>\n",
       "      <th>8</th>\n",
       "      <td>2018</td>\n",
       "      <td>e0a2412720e9ea4f26c1ac985f6a7358</td>\n",
       "      <td>4809.439941</td>\n",
       "      <td>3</td>\n",
       "    </tr>\n",
       "  </tbody>\n",
       "</table>\n",
       "</div>"
      ],
      "text/plain": [
       "   year                          customer       payment  rank\n",
       "0  2016  a9dc96b027d1252bbac0a9b72d837fc6   1423.550049     1\n",
       "1  2016  1d34ed25963d5aae4cf3d7f3a4cda173   1400.739990     2\n",
       "2  2016  4a06381959b6670756de02e07b83815f   1227.780029     3\n",
       "3  2017  1617b1357756262bfa56ab541c47bc16  13664.080078     1\n",
       "4  2017  c6e2731c5b391845f6800c97401a43a9   6929.310059     2\n",
       "5  2017  3fd6777bbce08a352fddd04e4a7cc8f6   6726.660156     3\n",
       "6  2018  ec5b2ba62e574342386871631fafd3fc   7274.879883     1\n",
       "7  2018  f48d464a0baaea338cb25f816991ab1f   6922.209961     2\n",
       "8  2018  e0a2412720e9ea4f26c1ac985f6a7358   4809.439941     3"
      ]
     },
     "execution_count": 4,
     "metadata": {},
     "output_type": "execute_result"
    }
   ],
   "source": [
    "query=\"\"\"select yrs,customer,purchas,rnk\n",
    "from \n",
    "(select orders.customer_id as customer,year(orders.order_purchase_timestamp) as yrs,\n",
    "sum(payments.payment_value) as purchas,\n",
    "dense_rank() over(partition by year(orders.order_purchase_timestamp)\n",
    "order by sum(payments.payment_value) desc) as rnk\n",
    "from orders\n",
    "join payments\n",
    "on payments.order_id=orders.order_id\n",
    "group by customer,yrs) as x\n",
    "where rnk<=3\"\"\"\n",
    "cur.execute(query)\n",
    "data=cur.fetchall()\n",
    "df=pd.DataFrame(data,columns=['year','customer','payment','rank'])\n",
    "df"
   ]
  },
  {
   "cell_type": "code",
   "execution_count": null,
   "id": "d7f15c47-6de4-4ad0-a2ca-c8c3d648601c",
   "metadata": {},
   "outputs": [],
   "source": []
  }
 ],
 "metadata": {
  "kernelspec": {
   "display_name": "Python 3 (ipykernel)",
   "language": "python",
   "name": "python3"
  },
  "language_info": {
   "codemirror_mode": {
    "name": "ipython",
    "version": 3
   },
   "file_extension": ".py",
   "mimetype": "text/x-python",
   "name": "python",
   "nbconvert_exporter": "python",
   "pygments_lexer": "ipython3",
   "version": "3.11.5"
  }
 },
 "nbformat": 4,
 "nbformat_minor": 5
}
